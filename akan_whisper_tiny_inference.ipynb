{
  "cells": [
    {
      "cell_type": "code",
      "execution_count": 1,
      "metadata": {
        "id": "qeH9XjMEXKs6"
      },
      "outputs": [],
      "source": [
        "!pip install --upgrade --quiet pip\n",
        "!pip install --upgrade --quiet  gradio transformers"
      ]
    },
    {
      "cell_type": "code",
      "execution_count": 2,
      "metadata": {
        "id": "UyLMXzlhpH9-"
      },
      "outputs": [],
      "source": [
        "# # Connect to HuggingFace\n",
        "\n",
        "# from huggingface_hub import notebook_login\n",
        "\n",
        "# notebook_login()"
      ]
    },
    {
      "cell_type": "code",
      "source": [
        "from transformers import pipeline\n",
        "import gradio as gr"
      ],
      "metadata": {
        "id": "w-9bhhYHLaZV"
      },
      "execution_count": 3,
      "outputs": []
    },
    {
      "cell_type": "code",
      "execution_count": 5,
      "metadata": {
        "colab": {
          "base_uri": "https://localhost:8080/",
          "height": 650
        },
        "id": "fmZfuEnU9348",
        "outputId": "8aaa5e7d-9e53-4201-d070-0760bdfda8e0"
      },
      "outputs": [
        {
          "output_type": "stream",
          "name": "stdout",
          "text": [
            "Setting queue=True in a Colab notebook requires sharing enabled. Setting `share=True` (you can turn this off by setting `share=False` in `launch()` explicitly).\n",
            "\n",
            "Colab notebook detected. To show errors in colab notebook, set debug=True in launch()\n",
            "Running on public URL: https://7902a8620f78adc81e.gradio.live\n",
            "\n",
            "This share link expires in 72 hours. For free permanent hosting and GPU upgrades, run `gradio deploy` from Terminal to deploy to Spaces (https://huggingface.co/spaces)\n"
          ]
        },
        {
          "output_type": "display_data",
          "data": {
            "text/plain": [
              "<IPython.core.display.HTML object>"
            ],
            "text/html": [
              "<div><iframe src=\"https://7902a8620f78adc81e.gradio.live\" width=\"100%\" height=\"500\" allow=\"autoplay; camera; microphone; clipboard-read; clipboard-write;\" frameborder=\"0\" allowfullscreen></iframe></div>"
            ]
          },
          "metadata": {}
        },
        {
          "output_type": "execute_result",
          "data": {
            "text/plain": []
          },
          "metadata": {},
          "execution_count": 5
        }
      ],
      "source": [
        "pipe = pipeline(task=\"automatic-speech-recognition\",model=\"nyarkssss/whisper-tiny-ak\")\n",
        "\n",
        "def transcribe(audio):\n",
        "  print(\"Received file path:\", audio)\n",
        "  if audio is None:\n",
        "    return \"No file received. Please try again.\"\n",
        "  text = pipe(audio)[\"text\"]\n",
        "  return text\n",
        "\n",
        "iface = gr.Interface(\n",
        "    fn=transcribe,\n",
        "    inputs=gr.Audio(type=\"filepath\", label=\"Kindly record your voice or upload an audio file\"),\n",
        "    outputs=\"text\",\n",
        "    title=\"Whisper Tiny Akan\",\n",
        "    description=\"Realtime demo for Akan speech recognition using a fine-tuned Whisper tiny model.\",\n",
        ")\n",
        "\n",
        "iface.launch(\n",
        "    # queue=True,\n",
        "    # share=True,\n",
        "    debug=False\n",
        "    )"
      ]
    }
  ],
  "metadata": {
    "colab": {
      "provenance": [],
      "authorship_tag": "ABX9TyMJZII9uqJDosqHYYCQdldh"
    },
    "kernelspec": {
      "display_name": "Python 3",
      "name": "python3"
    },
    "language_info": {
      "name": "python"
    }
  },
  "nbformat": 4,
  "nbformat_minor": 0
}