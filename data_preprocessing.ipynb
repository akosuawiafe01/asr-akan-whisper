{
  "nbformat": 4,
  "nbformat_minor": 0,
  "metadata": {
    "colab": {
      "provenance": [],
      "mount_file_id": "1VUJR9_vfjZsOy5pGwOk52dxo6ui2YSC2",
      "authorship_tag": "ABX9TyN74lHUYwrOaIHf22pgGVqW"
    },
    "kernelspec": {
      "name": "python3",
      "display_name": "Python 3"
    },
    "language_info": {
      "name": "python"
    }
  },
  "cells": [
    {
      "cell_type": "code",
      "source": [
        "import pandas as pd\n",
        "import matplotlib.pyplot as plt"
      ],
      "metadata": {
        "id": "zB05bXfQxIA-"
      },
      "execution_count": 199,
      "outputs": []
    },
    {
      "cell_type": "code",
      "execution_count": 200,
      "metadata": {
        "id": "2sBYyMToxG9M"
      },
      "outputs": [],
      "source": [
        "transcriptions_df = pd.read_excel(\"/content/drive/MyDrive/Colab Notebooks/whispher-ak-gh-new-era/dataset/transcriptions-2000.xlsx\")"
      ]
    },
    {
      "cell_type": "code",
      "source": [
        "transcriptions_df.head(2)"
      ],
      "metadata": {
        "colab": {
          "base_uri": "https://localhost:8080/",
          "height": 253
        },
        "id": "ygicwrsjycNK",
        "outputId": "76926c67-f196-4950-f95d-d8a03eb55f1e"
      },
      "execution_count": 201,
      "outputs": [
        {
          "output_type": "execute_result",
          "data": {
            "text/plain": [
              "   unamed  File No.            IMAGE_PATH  \\\n",
              "0       4     18932  Akan/images/0011.jpg   \n",
              "1    1277     15765  Akan/images/0021.jpg   \n",
              "\n",
              "                                       IMAGE_SRC_URL  \\\n",
              "0  https://c8.alamy.com/comp/PCCH2B/techiman-ghan...   \n",
              "1  https://media.istockphoto.com/id/1323846471/ph...   \n",
              "\n",
              "                                          AUDIO_PATH  \\\n",
              "0  Akan\\selected transcribed audios\\audios\\_image...   \n",
              "1  Akan\\selected transcribed audios\\audios\\_image...   \n",
              "\n",
              "                                      Transcriptions  SPEAKER_ID  \\\n",
              "0  Mmɔfra anan a ɔde bokiti ato nsu mu resaw. Asa...        6388   \n",
              "1  Akataasiaba wɔ ne gyaadze. Okitsa biribi wɔ ne...        3890   \n",
              "\n",
              "              ORG_NAME PROJECT_NAME LOCALE  GENDER  AGE            DEVICE  \\\n",
              "0  University of Ghana        Waxal  ak_gh    Male   21         TCL 5102O   \n",
              "1  University of Ghana        Waxal  ak_gh  Female   56  samsung SM-A022F   \n",
              "\n",
              "  ENVIRONMENT  YEAR                               Full Filename  \\\n",
              "0     Outdoor  2023  _image_0011_u893_5_1683649978142_18932.mp3   \n",
              "1      Indoor  2023  _image_0021_u122_1_1679478597335_15765.mp3   \n",
              "\n",
              "                               Filename  \n",
              "0  _image_0011_u893_5_1683649978142.mp3  \n",
              "1  _image_0021_u122_1_1679478597335.mp3  "
            ],
            "text/html": [
              "\n",
              "  <div id=\"df-b6ee76e4-3709-4fa2-b6fc-565594f4fae1\" class=\"colab-df-container\">\n",
              "    <div>\n",
              "<style scoped>\n",
              "    .dataframe tbody tr th:only-of-type {\n",
              "        vertical-align: middle;\n",
              "    }\n",
              "\n",
              "    .dataframe tbody tr th {\n",
              "        vertical-align: top;\n",
              "    }\n",
              "\n",
              "    .dataframe thead th {\n",
              "        text-align: right;\n",
              "    }\n",
              "</style>\n",
              "<table border=\"1\" class=\"dataframe\">\n",
              "  <thead>\n",
              "    <tr style=\"text-align: right;\">\n",
              "      <th></th>\n",
              "      <th>unamed</th>\n",
              "      <th>File No.</th>\n",
              "      <th>IMAGE_PATH</th>\n",
              "      <th>IMAGE_SRC_URL</th>\n",
              "      <th>AUDIO_PATH</th>\n",
              "      <th>Transcriptions</th>\n",
              "      <th>SPEAKER_ID</th>\n",
              "      <th>ORG_NAME</th>\n",
              "      <th>PROJECT_NAME</th>\n",
              "      <th>LOCALE</th>\n",
              "      <th>GENDER</th>\n",
              "      <th>AGE</th>\n",
              "      <th>DEVICE</th>\n",
              "      <th>ENVIRONMENT</th>\n",
              "      <th>YEAR</th>\n",
              "      <th>Full Filename</th>\n",
              "      <th>Filename</th>\n",
              "    </tr>\n",
              "  </thead>\n",
              "  <tbody>\n",
              "    <tr>\n",
              "      <th>0</th>\n",
              "      <td>4</td>\n",
              "      <td>18932</td>\n",
              "      <td>Akan/images/0011.jpg</td>\n",
              "      <td>https://c8.alamy.com/comp/PCCH2B/techiman-ghan...</td>\n",
              "      <td>Akan\\selected transcribed audios\\audios\\_image...</td>\n",
              "      <td>Mmɔfra anan a ɔde bokiti ato nsu mu resaw. Asa...</td>\n",
              "      <td>6388</td>\n",
              "      <td>University of Ghana</td>\n",
              "      <td>Waxal</td>\n",
              "      <td>ak_gh</td>\n",
              "      <td>Male</td>\n",
              "      <td>21</td>\n",
              "      <td>TCL 5102O</td>\n",
              "      <td>Outdoor</td>\n",
              "      <td>2023</td>\n",
              "      <td>_image_0011_u893_5_1683649978142_18932.mp3</td>\n",
              "      <td>_image_0011_u893_5_1683649978142.mp3</td>\n",
              "    </tr>\n",
              "    <tr>\n",
              "      <th>1</th>\n",
              "      <td>1277</td>\n",
              "      <td>15765</td>\n",
              "      <td>Akan/images/0021.jpg</td>\n",
              "      <td>https://media.istockphoto.com/id/1323846471/ph...</td>\n",
              "      <td>Akan\\selected transcribed audios\\audios\\_image...</td>\n",
              "      <td>Akataasiaba wɔ ne gyaadze. Okitsa biribi wɔ ne...</td>\n",
              "      <td>3890</td>\n",
              "      <td>University of Ghana</td>\n",
              "      <td>Waxal</td>\n",
              "      <td>ak_gh</td>\n",
              "      <td>Female</td>\n",
              "      <td>56</td>\n",
              "      <td>samsung SM-A022F</td>\n",
              "      <td>Indoor</td>\n",
              "      <td>2023</td>\n",
              "      <td>_image_0021_u122_1_1679478597335_15765.mp3</td>\n",
              "      <td>_image_0021_u122_1_1679478597335.mp3</td>\n",
              "    </tr>\n",
              "  </tbody>\n",
              "</table>\n",
              "</div>\n",
              "    <div class=\"colab-df-buttons\">\n",
              "\n",
              "  <div class=\"colab-df-container\">\n",
              "    <button class=\"colab-df-convert\" onclick=\"convertToInteractive('df-b6ee76e4-3709-4fa2-b6fc-565594f4fae1')\"\n",
              "            title=\"Convert this dataframe to an interactive table.\"\n",
              "            style=\"display:none;\">\n",
              "\n",
              "  <svg xmlns=\"http://www.w3.org/2000/svg\" height=\"24px\" viewBox=\"0 -960 960 960\">\n",
              "    <path d=\"M120-120v-720h720v720H120Zm60-500h600v-160H180v160Zm220 220h160v-160H400v160Zm0 220h160v-160H400v160ZM180-400h160v-160H180v160Zm440 0h160v-160H620v160ZM180-180h160v-160H180v160Zm440 0h160v-160H620v160Z\"/>\n",
              "  </svg>\n",
              "    </button>\n",
              "\n",
              "  <style>\n",
              "    .colab-df-container {\n",
              "      display:flex;\n",
              "      gap: 12px;\n",
              "    }\n",
              "\n",
              "    .colab-df-convert {\n",
              "      background-color: #E8F0FE;\n",
              "      border: none;\n",
              "      border-radius: 50%;\n",
              "      cursor: pointer;\n",
              "      display: none;\n",
              "      fill: #1967D2;\n",
              "      height: 32px;\n",
              "      padding: 0 0 0 0;\n",
              "      width: 32px;\n",
              "    }\n",
              "\n",
              "    .colab-df-convert:hover {\n",
              "      background-color: #E2EBFA;\n",
              "      box-shadow: 0px 1px 2px rgba(60, 64, 67, 0.3), 0px 1px 3px 1px rgba(60, 64, 67, 0.15);\n",
              "      fill: #174EA6;\n",
              "    }\n",
              "\n",
              "    .colab-df-buttons div {\n",
              "      margin-bottom: 4px;\n",
              "    }\n",
              "\n",
              "    [theme=dark] .colab-df-convert {\n",
              "      background-color: #3B4455;\n",
              "      fill: #D2E3FC;\n",
              "    }\n",
              "\n",
              "    [theme=dark] .colab-df-convert:hover {\n",
              "      background-color: #434B5C;\n",
              "      box-shadow: 0px 1px 3px 1px rgba(0, 0, 0, 0.15);\n",
              "      filter: drop-shadow(0px 1px 2px rgba(0, 0, 0, 0.3));\n",
              "      fill: #FFFFFF;\n",
              "    }\n",
              "  </style>\n",
              "\n",
              "    <script>\n",
              "      const buttonEl =\n",
              "        document.querySelector('#df-b6ee76e4-3709-4fa2-b6fc-565594f4fae1 button.colab-df-convert');\n",
              "      buttonEl.style.display =\n",
              "        google.colab.kernel.accessAllowed ? 'block' : 'none';\n",
              "\n",
              "      async function convertToInteractive(key) {\n",
              "        const element = document.querySelector('#df-b6ee76e4-3709-4fa2-b6fc-565594f4fae1');\n",
              "        const dataTable =\n",
              "          await google.colab.kernel.invokeFunction('convertToInteractive',\n",
              "                                                    [key], {});\n",
              "        if (!dataTable) return;\n",
              "\n",
              "        const docLinkHtml = 'Like what you see? Visit the ' +\n",
              "          '<a target=\"_blank\" href=https://colab.research.google.com/notebooks/data_table.ipynb>data table notebook</a>'\n",
              "          + ' to learn more about interactive tables.';\n",
              "        element.innerHTML = '';\n",
              "        dataTable['output_type'] = 'display_data';\n",
              "        await google.colab.output.renderOutput(dataTable, element);\n",
              "        const docLink = document.createElement('div');\n",
              "        docLink.innerHTML = docLinkHtml;\n",
              "        element.appendChild(docLink);\n",
              "      }\n",
              "    </script>\n",
              "  </div>\n",
              "\n",
              "\n",
              "<div id=\"df-7b426348-ad83-45c5-bd82-8ae573e3e4ed\">\n",
              "  <button class=\"colab-df-quickchart\" onclick=\"quickchart('df-7b426348-ad83-45c5-bd82-8ae573e3e4ed')\"\n",
              "            title=\"Suggest charts\"\n",
              "            style=\"display:none;\">\n",
              "\n",
              "<svg xmlns=\"http://www.w3.org/2000/svg\" height=\"24px\"viewBox=\"0 0 24 24\"\n",
              "     width=\"24px\">\n",
              "    <g>\n",
              "        <path d=\"M19 3H5c-1.1 0-2 .9-2 2v14c0 1.1.9 2 2 2h14c1.1 0 2-.9 2-2V5c0-1.1-.9-2-2-2zM9 17H7v-7h2v7zm4 0h-2V7h2v10zm4 0h-2v-4h2v4z\"/>\n",
              "    </g>\n",
              "</svg>\n",
              "  </button>\n",
              "\n",
              "<style>\n",
              "  .colab-df-quickchart {\n",
              "      --bg-color: #E8F0FE;\n",
              "      --fill-color: #1967D2;\n",
              "      --hover-bg-color: #E2EBFA;\n",
              "      --hover-fill-color: #174EA6;\n",
              "      --disabled-fill-color: #AAA;\n",
              "      --disabled-bg-color: #DDD;\n",
              "  }\n",
              "\n",
              "  [theme=dark] .colab-df-quickchart {\n",
              "      --bg-color: #3B4455;\n",
              "      --fill-color: #D2E3FC;\n",
              "      --hover-bg-color: #434B5C;\n",
              "      --hover-fill-color: #FFFFFF;\n",
              "      --disabled-bg-color: #3B4455;\n",
              "      --disabled-fill-color: #666;\n",
              "  }\n",
              "\n",
              "  .colab-df-quickchart {\n",
              "    background-color: var(--bg-color);\n",
              "    border: none;\n",
              "    border-radius: 50%;\n",
              "    cursor: pointer;\n",
              "    display: none;\n",
              "    fill: var(--fill-color);\n",
              "    height: 32px;\n",
              "    padding: 0;\n",
              "    width: 32px;\n",
              "  }\n",
              "\n",
              "  .colab-df-quickchart:hover {\n",
              "    background-color: var(--hover-bg-color);\n",
              "    box-shadow: 0 1px 2px rgba(60, 64, 67, 0.3), 0 1px 3px 1px rgba(60, 64, 67, 0.15);\n",
              "    fill: var(--button-hover-fill-color);\n",
              "  }\n",
              "\n",
              "  .colab-df-quickchart-complete:disabled,\n",
              "  .colab-df-quickchart-complete:disabled:hover {\n",
              "    background-color: var(--disabled-bg-color);\n",
              "    fill: var(--disabled-fill-color);\n",
              "    box-shadow: none;\n",
              "  }\n",
              "\n",
              "  .colab-df-spinner {\n",
              "    border: 2px solid var(--fill-color);\n",
              "    border-color: transparent;\n",
              "    border-bottom-color: var(--fill-color);\n",
              "    animation:\n",
              "      spin 1s steps(1) infinite;\n",
              "  }\n",
              "\n",
              "  @keyframes spin {\n",
              "    0% {\n",
              "      border-color: transparent;\n",
              "      border-bottom-color: var(--fill-color);\n",
              "      border-left-color: var(--fill-color);\n",
              "    }\n",
              "    20% {\n",
              "      border-color: transparent;\n",
              "      border-left-color: var(--fill-color);\n",
              "      border-top-color: var(--fill-color);\n",
              "    }\n",
              "    30% {\n",
              "      border-color: transparent;\n",
              "      border-left-color: var(--fill-color);\n",
              "      border-top-color: var(--fill-color);\n",
              "      border-right-color: var(--fill-color);\n",
              "    }\n",
              "    40% {\n",
              "      border-color: transparent;\n",
              "      border-right-color: var(--fill-color);\n",
              "      border-top-color: var(--fill-color);\n",
              "    }\n",
              "    60% {\n",
              "      border-color: transparent;\n",
              "      border-right-color: var(--fill-color);\n",
              "    }\n",
              "    80% {\n",
              "      border-color: transparent;\n",
              "      border-right-color: var(--fill-color);\n",
              "      border-bottom-color: var(--fill-color);\n",
              "    }\n",
              "    90% {\n",
              "      border-color: transparent;\n",
              "      border-bottom-color: var(--fill-color);\n",
              "    }\n",
              "  }\n",
              "</style>\n",
              "\n",
              "  <script>\n",
              "    async function quickchart(key) {\n",
              "      const quickchartButtonEl =\n",
              "        document.querySelector('#' + key + ' button');\n",
              "      quickchartButtonEl.disabled = true;  // To prevent multiple clicks.\n",
              "      quickchartButtonEl.classList.add('colab-df-spinner');\n",
              "      try {\n",
              "        const charts = await google.colab.kernel.invokeFunction(\n",
              "            'suggestCharts', [key], {});\n",
              "      } catch (error) {\n",
              "        console.error('Error during call to suggestCharts:', error);\n",
              "      }\n",
              "      quickchartButtonEl.classList.remove('colab-df-spinner');\n",
              "      quickchartButtonEl.classList.add('colab-df-quickchart-complete');\n",
              "    }\n",
              "    (() => {\n",
              "      let quickchartButtonEl =\n",
              "        document.querySelector('#df-7b426348-ad83-45c5-bd82-8ae573e3e4ed button');\n",
              "      quickchartButtonEl.style.display =\n",
              "        google.colab.kernel.accessAllowed ? 'block' : 'none';\n",
              "    })();\n",
              "  </script>\n",
              "</div>\n",
              "\n",
              "    </div>\n",
              "  </div>\n"
            ],
            "application/vnd.google.colaboratory.intrinsic+json": {
              "type": "dataframe",
              "variable_name": "transcriptions_df",
              "summary": "{\n  \"name\": \"transcriptions_df\",\n  \"rows\": 2000,\n  \"fields\": [\n    {\n      \"column\": \"unamed\",\n      \"properties\": {\n        \"dtype\": \"number\",\n        \"std\": 918,\n        \"min\": 1,\n        \"max\": 3166,\n        \"num_unique_values\": 1536,\n        \"samples\": [\n          9,\n          1391,\n          1096\n        ],\n        \"semantic_type\": \"\",\n        \"description\": \"\"\n      }\n    },\n    {\n      \"column\": \"File No.\",\n      \"properties\": {\n        \"dtype\": \"number\",\n        \"std\": 5536,\n        \"min\": 20,\n        \"max\": 18986,\n        \"num_unique_values\": 2000,\n        \"samples\": [\n          14827,\n          10566,\n          13951\n        ],\n        \"semantic_type\": \"\",\n        \"description\": \"\"\n      }\n    },\n    {\n      \"column\": \"IMAGE_PATH\",\n      \"properties\": {\n        \"dtype\": \"category\",\n        \"num_unique_values\": 816,\n        \"samples\": [\n          \"Akan/images/0198.jpg\",\n          \"Akan/images/0323.jpg\",\n          \"Akan/images/0922.jpg\"\n        ],\n        \"semantic_type\": \"\",\n        \"description\": \"\"\n      }\n    },\n    {\n      \"column\": \"IMAGE_SRC_URL\",\n      \"properties\": {\n        \"dtype\": \"category\",\n        \"num_unique_values\": 816,\n        \"samples\": [\n          \"https://i.ytimg.com/vi/dLbe_pKa-UQ/maxresdefault.jpg\",\n          \"https://i.pinimg.com/originals/fe/67/5e/fe675e38d06471b143516e57c9256482.jpg\",\n          \"https://images.theconversation.com/files/492311/original/file-20221028-41756-rlclkr.jpeg?ixlib=rb-1.1.0&q=45&auto=format&w=926&fit=clip\"\n        ],\n        \"semantic_type\": \"\",\n        \"description\": \"\"\n      }\n    },\n    {\n      \"column\": \"AUDIO_PATH\",\n      \"properties\": {\n        \"dtype\": \"string\",\n        \"num_unique_values\": 2000,\n        \"samples\": [\n          \"Akan\\\\selected transcribed audios\\\\audios\\\\ak_gh_image_0930_u238_1_1680092429538_14827.mp3\",\n          \"Akan\\\\selected transcribed audios\\\\audios\\\\ak_gh_image_0102_u1069_1_1682474290068_10566.mp3\",\n          \"Akan\\\\selected transcribed audios\\\\audios\\\\ak_gh_image_0576_u1609_1_1683068714942_13951.mp3\"\n        ],\n        \"semantic_type\": \"\",\n        \"description\": \"\"\n      }\n    },\n    {\n      \"column\": \"Transcriptions\",\n      \"properties\": {\n        \"dtype\": \"string\",\n        \"num_unique_values\": 2000,\n        \"samples\": [\n          \"Mmabaawa mmienu de ntoma asiesie w\\u0254n ho gyina badwam \\u025bresa. Mmabaawa yi de ade fitaa ab\\u0254 w\\u0254n ti, w\\u0254de awene\\u025b agugu w\\u0254n nsa ne w\\u0254n k\\u0254n mu. Amamfo\\u0254 gyinagyina w\\u0254n akyi a w\\u0254rehw\\u025b w\\u0254n.\",\n          \"\\u0190ha y\\u025b dwam, na ntoma bebree sss . Sens\\u025bn h\\u0254. Maame bi s so ade\\u025b bi w\\u0254 ne ti so a \\u0254ret\\u0254n a \\u0254sane kita bi w\\u0254 ne nsam, na nkur\\u0254fo\\u0254 di n'akyi a w\\u0254retwam.\",\n          \"Nyimpad\\u0254m a woehyia a binom tsenatsena h\\u0254, na binom so gyina h\\u0254n enyim a w\\u0254rekasa kyer\\u025b h\\u0254n. Na w\\u0254akyer\\u025bw h\\u0254n ekyir h\\u0254 d\\u025b Aban Sikas\\u025bm Nhyehy\\u025b\\u025b ho ma Ebibiman.\"\n        ],\n        \"semantic_type\": \"\",\n        \"description\": \"\"\n      }\n    },\n    {\n      \"column\": \"SPEAKER_ID\",\n      \"properties\": {\n        \"dtype\": \"number\",\n        \"std\": 2333,\n        \"min\": 2,\n        \"max\": 8045,\n        \"num_unique_values\": 354,\n        \"samples\": [\n          5589,\n          5597,\n          4669\n        ],\n        \"semantic_type\": \"\",\n        \"description\": \"\"\n      }\n    },\n    {\n      \"column\": \"ORG_NAME\",\n      \"properties\": {\n        \"dtype\": \"category\",\n        \"num_unique_values\": 1,\n        \"samples\": [\n          \"University of Ghana\"\n        ],\n        \"semantic_type\": \"\",\n        \"description\": \"\"\n      }\n    },\n    {\n      \"column\": \"PROJECT_NAME\",\n      \"properties\": {\n        \"dtype\": \"category\",\n        \"num_unique_values\": 1,\n        \"samples\": [\n          \"Waxal\"\n        ],\n        \"semantic_type\": \"\",\n        \"description\": \"\"\n      }\n    },\n    {\n      \"column\": \"LOCALE\",\n      \"properties\": {\n        \"dtype\": \"category\",\n        \"num_unique_values\": 1,\n        \"samples\": [\n          \"ak_gh\"\n        ],\n        \"semantic_type\": \"\",\n        \"description\": \"\"\n      }\n    },\n    {\n      \"column\": \"GENDER\",\n      \"properties\": {\n        \"dtype\": \"category\",\n        \"num_unique_values\": 2,\n        \"samples\": [\n          \"Female\"\n        ],\n        \"semantic_type\": \"\",\n        \"description\": \"\"\n      }\n    },\n    {\n      \"column\": \"AGE\",\n      \"properties\": {\n        \"dtype\": \"number\",\n        \"std\": 10,\n        \"min\": 16,\n        \"max\": 71,\n        \"num_unique_values\": 42,\n        \"samples\": [\n          18\n        ],\n        \"semantic_type\": \"\",\n        \"description\": \"\"\n      }\n    },\n    {\n      \"column\": \"DEVICE\",\n      \"properties\": {\n        \"dtype\": \"category\",\n        \"num_unique_values\": 151,\n        \"samples\": [\n          \"ITEL MOBILE LIMITED itel P551W\"\n        ],\n        \"semantic_type\": \"\",\n        \"description\": \"\"\n      }\n    },\n    {\n      \"column\": \"ENVIRONMENT\",\n      \"properties\": {\n        \"dtype\": \"category\",\n        \"num_unique_values\": 4,\n        \"samples\": [\n          \"Indoor\"\n        ],\n        \"semantic_type\": \"\",\n        \"description\": \"\"\n      }\n    },\n    {\n      \"column\": \"YEAR\",\n      \"properties\": {\n        \"dtype\": \"number\",\n        \"std\": 0,\n        \"min\": 2023,\n        \"max\": 2023,\n        \"num_unique_values\": 1,\n        \"samples\": [\n          2023\n        ],\n        \"semantic_type\": \"\",\n        \"description\": \"\"\n      }\n    },\n    {\n      \"column\": \"Full Filename\",\n      \"properties\": {\n        \"dtype\": \"string\",\n        \"num_unique_values\": 2000,\n        \"samples\": [\n          \"ak_gh_image_0930_u238_1_1680092429538_14827.mp3\"\n        ],\n        \"semantic_type\": \"\",\n        \"description\": \"\"\n      }\n    },\n    {\n      \"column\": \"Filename\",\n      \"properties\": {\n        \"dtype\": \"string\",\n        \"num_unique_values\": 2000,\n        \"samples\": [\n          \"ak_gh_image_0930_u238_1_1680092429538.mp3\"\n        ],\n        \"semantic_type\": \"\",\n        \"description\": \"\"\n      }\n    }\n  ]\n}"
            }
          },
          "metadata": {},
          "execution_count": 201
        }
      ]
    },
    {
      "cell_type": "markdown",
      "source": [
        "### **Data Preprocessing**"
      ],
      "metadata": {
        "id": "HsimJNOhLbqj"
      }
    },
    {
      "cell_type": "markdown",
      "source": [
        "**Inspect Characters inside Transcriptions**"
      ],
      "metadata": {
        "id": "CfXEoqw6bE_8"
      }
    },
    {
      "cell_type": "code",
      "source": [
        "def extract_all_chars(batch):\n",
        "  # extract tokens from transcriptions\n",
        "  all_text = \" \".join(batch[\"Transcriptions\"])\n",
        "  vocab = list(set(all_text))\n",
        "  return {\"vocab\": [vocab], \"all_text\": [all_text]}"
      ],
      "metadata": {
        "id": "0STRiW0dLYjo"
      },
      "execution_count": 202,
      "outputs": []
    },
    {
      "cell_type": "code",
      "source": [
        "def check_transcription_tokens(transcriptions_train):\n",
        "\n",
        "  # get unique characters or tokens from dataset\n",
        "  all_vocabs = []\n",
        "    # Iterate over each row in the transcriptions_train Series\n",
        "  for row in transcriptions_train:\n",
        "    # Access the 'vocab' list within the dictionary in each row\n",
        "    all_vocabs.extend(row['vocab'][0])\n",
        "\n",
        "  # Create a set to remove duplicate vocabs\n",
        "  vocab_set = set(all_vocabs)\n",
        "\n",
        "  return vocab_set"
      ],
      "metadata": {
        "id": "YLqH38uFXZkY"
      },
      "execution_count": 203,
      "outputs": []
    },
    {
      "cell_type": "code",
      "source": [
        "def check_vocab_len(vocab_set):\n",
        "  # Get all unique tokens in a dict\n",
        "  vocab_all_dict = {k: v for k, v in enumerate(vocab_set)}\n",
        "\n",
        "  vocab_len = len(vocab_all_dict)\n",
        "\n",
        "  print(f\"The length of our Akan Twi vocabulary is {vocab_len}\")\n",
        "\n",
        "  return vocab_all_dict"
      ],
      "metadata": {
        "id": "QF4x_svwX0nM"
      },
      "execution_count": 204,
      "outputs": []
    },
    {
      "cell_type": "code",
      "source": [
        "# extract tokens from Transcription\n",
        "\n",
        "transcriptions_train = transcriptions_df.apply(extract_all_chars, axis=1)"
      ],
      "metadata": {
        "id": "fz0PzLlViQ2H"
      },
      "execution_count": 205,
      "outputs": []
    },
    {
      "cell_type": "code",
      "source": [
        "# check transcriptions vocab information\n",
        "\n",
        "check_vocab_len(check_transcription_tokens(transcriptions_train))"
      ],
      "metadata": {
        "colab": {
          "base_uri": "https://localhost:8080/"
        },
        "collapsed": true,
        "id": "_2G5vBJCX6-n",
        "outputId": "7477c4c3-7264-4913-d1f5-62da08cad940"
      },
      "execution_count": 206,
      "outputs": [
        {
          "output_type": "stream",
          "name": "stdout",
          "text": [
            "The length of our Akan Twi vocabulary is 70\n"
          ]
        },
        {
          "output_type": "execute_result",
          "data": {
            "text/plain": [
              "{0: 'q',\n",
              " 1: 'K',\n",
              " 2: 'ℇ',\n",
              " 3: 'Ɛ',\n",
              " 4: 'c',\n",
              " 5: '3',\n",
              " 6: 'b',\n",
              " 7: 'ɛ',\n",
              " 8: 'g',\n",
              " 9: 'L',\n",
              " 10: 'x',\n",
              " 11: 'k',\n",
              " 12: 's',\n",
              " 13: 'ɔ',\n",
              " 14: ' ',\n",
              " 15: 'v',\n",
              " 16: 'T',\n",
              " 17: 'j',\n",
              " 18: 'd',\n",
              " 19: 'B',\n",
              " 20: '…',\n",
              " 21: 'Q',\n",
              " 22: ',',\n",
              " 23: \"'\",\n",
              " 24: 'l',\n",
              " 25: 'n',\n",
              " 26: 'u',\n",
              " 27: 'a',\n",
              " 28: 'X',\n",
              " 29: '.',\n",
              " 30: 'G',\n",
              " 31: 'F',\n",
              " 32: 'A',\n",
              " 33: ';',\n",
              " 34: 'Z',\n",
              " 35: 'C',\n",
              " 36: '!',\n",
              " 37: 'r',\n",
              " 38: 'V',\n",
              " 39: 'h',\n",
              " 40: 'o',\n",
              " 41: 'i',\n",
              " 42: 'O',\n",
              " 43: 'H',\n",
              " 44: 'U',\n",
              " 45: 'y',\n",
              " 46: '-',\n",
              " 47: 'W',\n",
              " 48: 'm',\n",
              " 49: 'M',\n",
              " 50: 'f',\n",
              " 51: 'I',\n",
              " 52: 'E',\n",
              " 53: 'D',\n",
              " 54: 'Y',\n",
              " 55: 'P',\n",
              " 56: 'Ɔ',\n",
              " 57: ')',\n",
              " 58: '=',\n",
              " 59: '’',\n",
              " 60: 'ƒ',\n",
              " 61: 'z',\n",
              " 62: 'w',\n",
              " 63: 'e',\n",
              " 64: 'N',\n",
              " 65: 'Ↄ',\n",
              " 66: 't',\n",
              " 67: 'p',\n",
              " 68: 'R',\n",
              " 69: 'S'}"
            ]
          },
          "metadata": {},
          "execution_count": 206
        }
      ]
    },
    {
      "cell_type": "markdown",
      "source": [
        "**Replace or Remove Unknown Characters Transcriptions**"
      ],
      "metadata": {
        "id": "qSIrdZxrb0XY"
      }
    },
    {
      "cell_type": "code",
      "source": [
        "import re\n",
        "chars_to_ignore_regex = '[\\=\\!\\�]'\n",
        "\n",
        "def remove_special_characters(batch):\n",
        "  # remove some characters from transcriptions\n",
        "  batch[\"Transcriptions\"] = re.sub(chars_to_ignore_regex, '', batch[\"Transcriptions\"]) + \" \"\n",
        "  return batch"
      ],
      "metadata": {
        "id": "WF5GCmKjcL1_"
      },
      "execution_count": 207,
      "outputs": []
    },
    {
      "cell_type": "code",
      "source": [
        "def replace_weird_characters(batch):\n",
        "  # replace out of place characters\n",
        "  batch[\"Transcriptions\"] = re.sub('[ℇ]', 'Ɛ', batch[\"Transcriptions\"])\n",
        "  batch[\"Transcriptions\"] = re.sub('[Ↄ]', 'Ɔ', batch[\"Transcriptions\"])\n",
        "  batch[\"Transcriptions\"] = re.sub('[ƒ]', 'f', batch[\"Transcriptions\"])\n",
        "  batch[\"Transcriptions\"] = re.sub('[…]', ' ', batch[\"Transcriptions\"])\n",
        "  batch[\"Transcriptions\"] = re.sub('[3]', 'ɛ', batch[\"Transcriptions\"])\n",
        "  batch[\"Transcriptions\"] = re.sub('[’]', \"'\", batch[\"Transcriptions\"])\n",
        "  batch[\"Transcriptions\"] = re.sub('[)]', 'ɔ', batch[\"Transcriptions\"])\n",
        "  return batch\n"
      ],
      "metadata": {
        "id": "hL936ND4bxok"
      },
      "execution_count": 208,
      "outputs": []
    },
    {
      "cell_type": "code",
      "source": [
        "# preprocess transcriptions\n",
        "\n",
        "transcriptions_df = transcriptions_df.apply(remove_special_characters, axis=1)\n",
        "transcriptions_df = transcriptions_df.apply(replace_weird_characters, axis=1)"
      ],
      "metadata": {
        "id": "7xXuu7sUiboj"
      },
      "execution_count": 209,
      "outputs": []
    },
    {
      "cell_type": "code",
      "source": [
        "# confirm transcription preprocessing\n",
        "\n",
        "transcriptions_test = transcriptions_df.apply(extract_all_chars, axis=1)\n",
        "check_vocab_len(check_transcription_tokens(transcriptions_test))"
      ],
      "metadata": {
        "colab": {
          "base_uri": "https://localhost:8080/"
        },
        "id": "JLaCbKlMc28N",
        "outputId": "0b2f84b9-5097-4762-ef2d-29acf92afa6b"
      },
      "execution_count": 210,
      "outputs": [
        {
          "output_type": "stream",
          "name": "stdout",
          "text": [
            "The length of our Akan Twi vocabulary is 61\n"
          ]
        },
        {
          "output_type": "execute_result",
          "data": {
            "text/plain": [
              "{0: 'q',\n",
              " 1: 'K',\n",
              " 2: 'Ɛ',\n",
              " 3: 'c',\n",
              " 4: 'b',\n",
              " 5: 'ɛ',\n",
              " 6: 'g',\n",
              " 7: 'L',\n",
              " 8: 'x',\n",
              " 9: 'k',\n",
              " 10: 's',\n",
              " 11: 'ɔ',\n",
              " 12: ' ',\n",
              " 13: 'v',\n",
              " 14: 'T',\n",
              " 15: 'j',\n",
              " 16: 'd',\n",
              " 17: 'B',\n",
              " 18: 'Q',\n",
              " 19: ',',\n",
              " 20: \"'\",\n",
              " 21: 'l',\n",
              " 22: 'n',\n",
              " 23: 'u',\n",
              " 24: 'a',\n",
              " 25: 'X',\n",
              " 26: '.',\n",
              " 27: 'G',\n",
              " 28: 'F',\n",
              " 29: 'A',\n",
              " 30: ';',\n",
              " 31: 'Z',\n",
              " 32: 'C',\n",
              " 33: 'r',\n",
              " 34: 'V',\n",
              " 35: 'h',\n",
              " 36: 'o',\n",
              " 37: 'i',\n",
              " 38: 'O',\n",
              " 39: 'H',\n",
              " 40: 'U',\n",
              " 41: 'y',\n",
              " 42: '-',\n",
              " 43: 'W',\n",
              " 44: 'm',\n",
              " 45: 'M',\n",
              " 46: 'f',\n",
              " 47: 'I',\n",
              " 48: 'E',\n",
              " 49: 'D',\n",
              " 50: 'Y',\n",
              " 51: 'P',\n",
              " 52: 'Ɔ',\n",
              " 53: 'z',\n",
              " 54: 'w',\n",
              " 55: 'e',\n",
              " 56: 'N',\n",
              " 57: 't',\n",
              " 58: 'p',\n",
              " 59: 'R',\n",
              " 60: 'S'}"
            ]
          },
          "metadata": {},
          "execution_count": 210
        }
      ]
    },
    {
      "cell_type": "code",
      "source": [
        "transcriptions_df.to_excel(\"/content/drive/MyDrive/Colab Notebooks/whispher-ak-gh-new-era/dataset/prep-transcriptions-2000.xlsx\")"
      ],
      "metadata": {
        "id": "mIC3RRRYcDrD"
      },
      "execution_count": 211,
      "outputs": []
    },
    {
      "cell_type": "markdown",
      "source": [
        "### **Prepare Data for Whisper ASR**"
      ],
      "metadata": {
        "id": "vS86m8yUvv39"
      }
    },
    {
      "cell_type": "code",
      "source": [
        "prep_transcriptions_df = pd.read_excel(\"/content/drive/MyDrive/Colab Notebooks/whispher-ak-gh-new-era/dataset/prep-transcriptions-2000.xlsx\")"
      ],
      "metadata": {
        "id": "93uIaggHv8Uh"
      },
      "execution_count": 212,
      "outputs": []
    },
    {
      "cell_type": "code",
      "source": [
        "prep_transcriptions_df.columns"
      ],
      "metadata": {
        "colab": {
          "base_uri": "https://localhost:8080/"
        },
        "id": "LfxjUCR6wFu3",
        "outputId": "3ffc98f4-d7c8-44bd-d40e-5a02d7ed3450"
      },
      "execution_count": 213,
      "outputs": [
        {
          "output_type": "execute_result",
          "data": {
            "text/plain": [
              "Index(['Unnamed: 0', 'unamed', 'File No.', 'IMAGE_PATH', 'IMAGE_SRC_URL',\n",
              "       'AUDIO_PATH', 'Transcriptions', 'SPEAKER_ID', 'ORG_NAME',\n",
              "       'PROJECT_NAME', 'LOCALE', 'GENDER', 'AGE', 'DEVICE', 'ENVIRONMENT',\n",
              "       'YEAR', 'Full Filename', 'Filename'],\n",
              "      dtype='object')"
            ]
          },
          "metadata": {},
          "execution_count": 213
        }
      ]
    },
    {
      "cell_type": "code",
      "source": [
        "unneccessary_columns = ['Unnamed: 0', 'unamed', 'File No.', 'IMAGE_PATH', 'IMAGE_SRC_URL','AUDIO_PATH', 'SPEAKER_ID', 'ORG_NAME','PROJECT_NAME', 'LOCALE', 'GENDER', 'AGE', 'DEVICE', 'ENVIRONMENT','YEAR', 'Filename']\n",
        "\n",
        "prep_transcriptions_df = prep_transcriptions_df.drop(unneccessary_columns, axis=1)"
      ],
      "metadata": {
        "id": "VF5-gLgdwJxy"
      },
      "execution_count": 214,
      "outputs": []
    },
    {
      "cell_type": "code",
      "source": [
        "# Switch the positions of columns 'Transcriptions' and 'Full Filename'\n",
        "prep_transcriptions_df =prep_transcriptions_df[['Full Filename', 'Transcriptions']]"
      ],
      "metadata": {
        "id": "WXccaFp7xbAd"
      },
      "execution_count": 215,
      "outputs": []
    },
    {
      "cell_type": "code",
      "source": [
        "# Rename columns\n",
        "prep_transcriptions_df.columns = ['file_name', 'transcription']"
      ],
      "metadata": {
        "id": "qQDq25ahyBs_"
      },
      "execution_count": 216,
      "outputs": []
    },
    {
      "cell_type": "code",
      "source": [
        "prep_transcriptions_df.head(10)"
      ],
      "metadata": {
        "colab": {
          "base_uri": "https://localhost:8080/",
          "height": 363
        },
        "id": "vOdAhvPawd1l",
        "outputId": "fb97b46d-c368-444a-e161-09c647572ecd"
      },
      "execution_count": 217,
      "outputs": [
        {
          "output_type": "execute_result",
          "data": {
            "text/plain": [
              "                                    file_name  \\\n",
              "0  _image_0011_u893_5_1683649978142_18932.mp3   \n",
              "1  _image_0021_u122_1_1679478597335_15765.mp3   \n",
              "2  _image_0021_u192_1_1679697868381_03106.mp3   \n",
              "3  _image_0027_u190_1_1679725603456_09436.mp3   \n",
              "4  _image_0042_u193_1_1679693018754_03110.mp3   \n",
              "5  _image_0045_u189_1_1679437808712_15775.mp3   \n",
              "6  _image_0052_u192_1_1679698531375_15774.mp3   \n",
              "7   _image_0052_u26_1_1679479240865_18939.mp3   \n",
              "8   _image_0067_u26_1_1679482591551_06277.mp3   \n",
              "9   _image_0076_u26_1_1679488708020_06278.mp3   \n",
              "\n",
              "                                       transcription  \n",
              "0  Mmɔfra anan a ɔde bokiti ato nsu mu resaw. Asa...  \n",
              "1  Akataasiaba wɔ ne gyaadze. Okitsa biribi wɔ ne...  \n",
              "2  Ɔbea bi gyina kitchen a ɔkura fon wɔ ne nsam a...  \n",
              "3  Ɔbaa bi hyɛ ataade tuntum. Ɔtena akonnwa so. L...  \n",
              "4  Papa penyin bi te egua so, na abranteɛ bi kita...  \n",
              "5  Obronin a nkwadaa atwa ne ho ahyia a wɔn ani a...  \n",
              "6  Mmayewa soso nneɛma a wɔarape wɔ ade mu ɛde re...  \n",
              "7  Mmesiamma waato santen a wɔde nnoɔma asoɛsoa w...  \n",
              "8  Iguam a adzetɔnfo wɔtsena hɔn nneɛma ekyir, na...  \n",
              "9  Aberanteɛ bi a wahyehyɛ ne ho kamakama. N'afad...  "
            ],
            "text/html": [
              "\n",
              "  <div id=\"df-2e4f1021-b288-4074-b0da-d26971432202\" class=\"colab-df-container\">\n",
              "    <div>\n",
              "<style scoped>\n",
              "    .dataframe tbody tr th:only-of-type {\n",
              "        vertical-align: middle;\n",
              "    }\n",
              "\n",
              "    .dataframe tbody tr th {\n",
              "        vertical-align: top;\n",
              "    }\n",
              "\n",
              "    .dataframe thead th {\n",
              "        text-align: right;\n",
              "    }\n",
              "</style>\n",
              "<table border=\"1\" class=\"dataframe\">\n",
              "  <thead>\n",
              "    <tr style=\"text-align: right;\">\n",
              "      <th></th>\n",
              "      <th>file_name</th>\n",
              "      <th>transcription</th>\n",
              "    </tr>\n",
              "  </thead>\n",
              "  <tbody>\n",
              "    <tr>\n",
              "      <th>0</th>\n",
              "      <td>_image_0011_u893_5_1683649978142_18932.mp3</td>\n",
              "      <td>Mmɔfra anan a ɔde bokiti ato nsu mu resaw. Asa...</td>\n",
              "    </tr>\n",
              "    <tr>\n",
              "      <th>1</th>\n",
              "      <td>_image_0021_u122_1_1679478597335_15765.mp3</td>\n",
              "      <td>Akataasiaba wɔ ne gyaadze. Okitsa biribi wɔ ne...</td>\n",
              "    </tr>\n",
              "    <tr>\n",
              "      <th>2</th>\n",
              "      <td>_image_0021_u192_1_1679697868381_03106.mp3</td>\n",
              "      <td>Ɔbea bi gyina kitchen a ɔkura fon wɔ ne nsam a...</td>\n",
              "    </tr>\n",
              "    <tr>\n",
              "      <th>3</th>\n",
              "      <td>_image_0027_u190_1_1679725603456_09436.mp3</td>\n",
              "      <td>Ɔbaa bi hyɛ ataade tuntum. Ɔtena akonnwa so. L...</td>\n",
              "    </tr>\n",
              "    <tr>\n",
              "      <th>4</th>\n",
              "      <td>_image_0042_u193_1_1679693018754_03110.mp3</td>\n",
              "      <td>Papa penyin bi te egua so, na abranteɛ bi kita...</td>\n",
              "    </tr>\n",
              "    <tr>\n",
              "      <th>5</th>\n",
              "      <td>_image_0045_u189_1_1679437808712_15775.mp3</td>\n",
              "      <td>Obronin a nkwadaa atwa ne ho ahyia a wɔn ani a...</td>\n",
              "    </tr>\n",
              "    <tr>\n",
              "      <th>6</th>\n",
              "      <td>_image_0052_u192_1_1679698531375_15774.mp3</td>\n",
              "      <td>Mmayewa soso nneɛma a wɔarape wɔ ade mu ɛde re...</td>\n",
              "    </tr>\n",
              "    <tr>\n",
              "      <th>7</th>\n",
              "      <td>_image_0052_u26_1_1679479240865_18939.mp3</td>\n",
              "      <td>Mmesiamma waato santen a wɔde nnoɔma asoɛsoa w...</td>\n",
              "    </tr>\n",
              "    <tr>\n",
              "      <th>8</th>\n",
              "      <td>_image_0067_u26_1_1679482591551_06277.mp3</td>\n",
              "      <td>Iguam a adzetɔnfo wɔtsena hɔn nneɛma ekyir, na...</td>\n",
              "    </tr>\n",
              "    <tr>\n",
              "      <th>9</th>\n",
              "      <td>_image_0076_u26_1_1679488708020_06278.mp3</td>\n",
              "      <td>Aberanteɛ bi a wahyehyɛ ne ho kamakama. N'afad...</td>\n",
              "    </tr>\n",
              "  </tbody>\n",
              "</table>\n",
              "</div>\n",
              "    <div class=\"colab-df-buttons\">\n",
              "\n",
              "  <div class=\"colab-df-container\">\n",
              "    <button class=\"colab-df-convert\" onclick=\"convertToInteractive('df-2e4f1021-b288-4074-b0da-d26971432202')\"\n",
              "            title=\"Convert this dataframe to an interactive table.\"\n",
              "            style=\"display:none;\">\n",
              "\n",
              "  <svg xmlns=\"http://www.w3.org/2000/svg\" height=\"24px\" viewBox=\"0 -960 960 960\">\n",
              "    <path d=\"M120-120v-720h720v720H120Zm60-500h600v-160H180v160Zm220 220h160v-160H400v160Zm0 220h160v-160H400v160ZM180-400h160v-160H180v160Zm440 0h160v-160H620v160ZM180-180h160v-160H180v160Zm440 0h160v-160H620v160Z\"/>\n",
              "  </svg>\n",
              "    </button>\n",
              "\n",
              "  <style>\n",
              "    .colab-df-container {\n",
              "      display:flex;\n",
              "      gap: 12px;\n",
              "    }\n",
              "\n",
              "    .colab-df-convert {\n",
              "      background-color: #E8F0FE;\n",
              "      border: none;\n",
              "      border-radius: 50%;\n",
              "      cursor: pointer;\n",
              "      display: none;\n",
              "      fill: #1967D2;\n",
              "      height: 32px;\n",
              "      padding: 0 0 0 0;\n",
              "      width: 32px;\n",
              "    }\n",
              "\n",
              "    .colab-df-convert:hover {\n",
              "      background-color: #E2EBFA;\n",
              "      box-shadow: 0px 1px 2px rgba(60, 64, 67, 0.3), 0px 1px 3px 1px rgba(60, 64, 67, 0.15);\n",
              "      fill: #174EA6;\n",
              "    }\n",
              "\n",
              "    .colab-df-buttons div {\n",
              "      margin-bottom: 4px;\n",
              "    }\n",
              "\n",
              "    [theme=dark] .colab-df-convert {\n",
              "      background-color: #3B4455;\n",
              "      fill: #D2E3FC;\n",
              "    }\n",
              "\n",
              "    [theme=dark] .colab-df-convert:hover {\n",
              "      background-color: #434B5C;\n",
              "      box-shadow: 0px 1px 3px 1px rgba(0, 0, 0, 0.15);\n",
              "      filter: drop-shadow(0px 1px 2px rgba(0, 0, 0, 0.3));\n",
              "      fill: #FFFFFF;\n",
              "    }\n",
              "  </style>\n",
              "\n",
              "    <script>\n",
              "      const buttonEl =\n",
              "        document.querySelector('#df-2e4f1021-b288-4074-b0da-d26971432202 button.colab-df-convert');\n",
              "      buttonEl.style.display =\n",
              "        google.colab.kernel.accessAllowed ? 'block' : 'none';\n",
              "\n",
              "      async function convertToInteractive(key) {\n",
              "        const element = document.querySelector('#df-2e4f1021-b288-4074-b0da-d26971432202');\n",
              "        const dataTable =\n",
              "          await google.colab.kernel.invokeFunction('convertToInteractive',\n",
              "                                                    [key], {});\n",
              "        if (!dataTable) return;\n",
              "\n",
              "        const docLinkHtml = 'Like what you see? Visit the ' +\n",
              "          '<a target=\"_blank\" href=https://colab.research.google.com/notebooks/data_table.ipynb>data table notebook</a>'\n",
              "          + ' to learn more about interactive tables.';\n",
              "        element.innerHTML = '';\n",
              "        dataTable['output_type'] = 'display_data';\n",
              "        await google.colab.output.renderOutput(dataTable, element);\n",
              "        const docLink = document.createElement('div');\n",
              "        docLink.innerHTML = docLinkHtml;\n",
              "        element.appendChild(docLink);\n",
              "      }\n",
              "    </script>\n",
              "  </div>\n",
              "\n",
              "\n",
              "<div id=\"df-79b479ec-4689-43db-8972-f86179932d0f\">\n",
              "  <button class=\"colab-df-quickchart\" onclick=\"quickchart('df-79b479ec-4689-43db-8972-f86179932d0f')\"\n",
              "            title=\"Suggest charts\"\n",
              "            style=\"display:none;\">\n",
              "\n",
              "<svg xmlns=\"http://www.w3.org/2000/svg\" height=\"24px\"viewBox=\"0 0 24 24\"\n",
              "     width=\"24px\">\n",
              "    <g>\n",
              "        <path d=\"M19 3H5c-1.1 0-2 .9-2 2v14c0 1.1.9 2 2 2h14c1.1 0 2-.9 2-2V5c0-1.1-.9-2-2-2zM9 17H7v-7h2v7zm4 0h-2V7h2v10zm4 0h-2v-4h2v4z\"/>\n",
              "    </g>\n",
              "</svg>\n",
              "  </button>\n",
              "\n",
              "<style>\n",
              "  .colab-df-quickchart {\n",
              "      --bg-color: #E8F0FE;\n",
              "      --fill-color: #1967D2;\n",
              "      --hover-bg-color: #E2EBFA;\n",
              "      --hover-fill-color: #174EA6;\n",
              "      --disabled-fill-color: #AAA;\n",
              "      --disabled-bg-color: #DDD;\n",
              "  }\n",
              "\n",
              "  [theme=dark] .colab-df-quickchart {\n",
              "      --bg-color: #3B4455;\n",
              "      --fill-color: #D2E3FC;\n",
              "      --hover-bg-color: #434B5C;\n",
              "      --hover-fill-color: #FFFFFF;\n",
              "      --disabled-bg-color: #3B4455;\n",
              "      --disabled-fill-color: #666;\n",
              "  }\n",
              "\n",
              "  .colab-df-quickchart {\n",
              "    background-color: var(--bg-color);\n",
              "    border: none;\n",
              "    border-radius: 50%;\n",
              "    cursor: pointer;\n",
              "    display: none;\n",
              "    fill: var(--fill-color);\n",
              "    height: 32px;\n",
              "    padding: 0;\n",
              "    width: 32px;\n",
              "  }\n",
              "\n",
              "  .colab-df-quickchart:hover {\n",
              "    background-color: var(--hover-bg-color);\n",
              "    box-shadow: 0 1px 2px rgba(60, 64, 67, 0.3), 0 1px 3px 1px rgba(60, 64, 67, 0.15);\n",
              "    fill: var(--button-hover-fill-color);\n",
              "  }\n",
              "\n",
              "  .colab-df-quickchart-complete:disabled,\n",
              "  .colab-df-quickchart-complete:disabled:hover {\n",
              "    background-color: var(--disabled-bg-color);\n",
              "    fill: var(--disabled-fill-color);\n",
              "    box-shadow: none;\n",
              "  }\n",
              "\n",
              "  .colab-df-spinner {\n",
              "    border: 2px solid var(--fill-color);\n",
              "    border-color: transparent;\n",
              "    border-bottom-color: var(--fill-color);\n",
              "    animation:\n",
              "      spin 1s steps(1) infinite;\n",
              "  }\n",
              "\n",
              "  @keyframes spin {\n",
              "    0% {\n",
              "      border-color: transparent;\n",
              "      border-bottom-color: var(--fill-color);\n",
              "      border-left-color: var(--fill-color);\n",
              "    }\n",
              "    20% {\n",
              "      border-color: transparent;\n",
              "      border-left-color: var(--fill-color);\n",
              "      border-top-color: var(--fill-color);\n",
              "    }\n",
              "    30% {\n",
              "      border-color: transparent;\n",
              "      border-left-color: var(--fill-color);\n",
              "      border-top-color: var(--fill-color);\n",
              "      border-right-color: var(--fill-color);\n",
              "    }\n",
              "    40% {\n",
              "      border-color: transparent;\n",
              "      border-right-color: var(--fill-color);\n",
              "      border-top-color: var(--fill-color);\n",
              "    }\n",
              "    60% {\n",
              "      border-color: transparent;\n",
              "      border-right-color: var(--fill-color);\n",
              "    }\n",
              "    80% {\n",
              "      border-color: transparent;\n",
              "      border-right-color: var(--fill-color);\n",
              "      border-bottom-color: var(--fill-color);\n",
              "    }\n",
              "    90% {\n",
              "      border-color: transparent;\n",
              "      border-bottom-color: var(--fill-color);\n",
              "    }\n",
              "  }\n",
              "</style>\n",
              "\n",
              "  <script>\n",
              "    async function quickchart(key) {\n",
              "      const quickchartButtonEl =\n",
              "        document.querySelector('#' + key + ' button');\n",
              "      quickchartButtonEl.disabled = true;  // To prevent multiple clicks.\n",
              "      quickchartButtonEl.classList.add('colab-df-spinner');\n",
              "      try {\n",
              "        const charts = await google.colab.kernel.invokeFunction(\n",
              "            'suggestCharts', [key], {});\n",
              "      } catch (error) {\n",
              "        console.error('Error during call to suggestCharts:', error);\n",
              "      }\n",
              "      quickchartButtonEl.classList.remove('colab-df-spinner');\n",
              "      quickchartButtonEl.classList.add('colab-df-quickchart-complete');\n",
              "    }\n",
              "    (() => {\n",
              "      let quickchartButtonEl =\n",
              "        document.querySelector('#df-79b479ec-4689-43db-8972-f86179932d0f button');\n",
              "      quickchartButtonEl.style.display =\n",
              "        google.colab.kernel.accessAllowed ? 'block' : 'none';\n",
              "    })();\n",
              "  </script>\n",
              "</div>\n",
              "\n",
              "    </div>\n",
              "  </div>\n"
            ],
            "application/vnd.google.colaboratory.intrinsic+json": {
              "type": "dataframe",
              "variable_name": "prep_transcriptions_df",
              "summary": "{\n  \"name\": \"prep_transcriptions_df\",\n  \"rows\": 2000,\n  \"fields\": [\n    {\n      \"column\": \"file_name\",\n      \"properties\": {\n        \"dtype\": \"string\",\n        \"num_unique_values\": 2000,\n        \"samples\": [\n          \"ak_gh_image_0930_u238_1_1680092429538_14827.mp3\",\n          \"ak_gh_image_0102_u1069_1_1682474290068_10566.mp3\",\n          \"ak_gh_image_0576_u1609_1_1683068714942_13951.mp3\"\n        ],\n        \"semantic_type\": \"\",\n        \"description\": \"\"\n      }\n    },\n    {\n      \"column\": \"transcription\",\n      \"properties\": {\n        \"dtype\": \"string\",\n        \"num_unique_values\": 2000,\n        \"samples\": [\n          \"Mmabaawa mmienu de ntoma asiesie w\\u0254n ho gyina badwam \\u025bresa. Mmabaawa yi de ade fitaa ab\\u0254 w\\u0254n ti, w\\u0254de awene\\u025b agugu w\\u0254n nsa ne w\\u0254n k\\u0254n mu. Amamfo\\u0254 gyinagyina w\\u0254n akyi a w\\u0254rehw\\u025b w\\u0254n. \",\n          \"\\u0190ha y\\u025b dwam, na ntoma bebree sss . Sens\\u025bn h\\u0254. Maame bi s so ade\\u025b bi w\\u0254 ne ti so a \\u0254ret\\u0254n a \\u0254sane kita bi w\\u0254 ne nsam, na nkur\\u0254fo\\u0254 di n'akyi a w\\u0254retwam. \",\n          \"Nyimpad\\u0254m a woehyia a binom tsenatsena h\\u0254, na binom so gyina h\\u0254n enyim a w\\u0254rekasa kyer\\u025b h\\u0254n. Na w\\u0254akyer\\u025bw h\\u0254n ekyir h\\u0254 d\\u025b Aban Sikas\\u025bm Nhyehy\\u025b\\u025b ho ma Ebibiman. \"\n        ],\n        \"semantic_type\": \"\",\n        \"description\": \"\"\n      }\n    }\n  ]\n}"
            }
          },
          "metadata": {},
          "execution_count": 217
        }
      ]
    },
    {
      "cell_type": "code",
      "source": [
        "# save prepared transcription as metadata\n",
        "\n",
        "prep_transcriptions_df.to_csv(\"/content/drive/MyDrive/Colab Notebooks/whispher-ak-gh-new-era/dataset/metadata-2000.csv\")"
      ],
      "metadata": {
        "id": "vmJckntqxqAf"
      },
      "execution_count": 218,
      "outputs": []
    },
    {
      "cell_type": "markdown",
      "source": [
        "### **Exploratory Data Analysis**"
      ],
      "metadata": {
        "id": "isG7LdLGLNvs"
      }
    },
    {
      "cell_type": "code",
      "source": [
        "transcriptions_df.shape"
      ],
      "metadata": {
        "colab": {
          "base_uri": "https://localhost:8080/"
        },
        "id": "2GHQk-zSyySh",
        "outputId": "eaca3978-8623-4f0e-9574-0244a6ada520"
      },
      "execution_count": 219,
      "outputs": [
        {
          "output_type": "execute_result",
          "data": {
            "text/plain": [
              "(2000, 17)"
            ]
          },
          "metadata": {},
          "execution_count": 219
        }
      ]
    },
    {
      "cell_type": "code",
      "source": [
        "transcriptions_df.info()"
      ],
      "metadata": {
        "colab": {
          "base_uri": "https://localhost:8080/"
        },
        "id": "skc6z7V9y0PP",
        "outputId": "e532d993-d911-4d24-bc5d-1884bb6a2b4f"
      },
      "execution_count": 192,
      "outputs": [
        {
          "output_type": "stream",
          "name": "stdout",
          "text": [
            "<class 'pandas.core.frame.DataFrame'>\n",
            "RangeIndex: 2000 entries, 0 to 1999\n",
            "Data columns (total 17 columns):\n",
            " #   Column          Non-Null Count  Dtype \n",
            "---  ------          --------------  ----- \n",
            " 0   unamed          2000 non-null   int64 \n",
            " 1   File No.        2000 non-null   int64 \n",
            " 2   IMAGE_PATH      2000 non-null   object\n",
            " 3   IMAGE_SRC_URL   2000 non-null   object\n",
            " 4   AUDIO_PATH      2000 non-null   object\n",
            " 5   Transcriptions  2000 non-null   object\n",
            " 6   SPEAKER_ID      2000 non-null   int64 \n",
            " 7   ORG_NAME        2000 non-null   object\n",
            " 8   PROJECT_NAME    2000 non-null   object\n",
            " 9   LOCALE          2000 non-null   object\n",
            " 10  GENDER          2000 non-null   object\n",
            " 11  AGE             2000 non-null   int64 \n",
            " 12  DEVICE          2000 non-null   object\n",
            " 13  ENVIRONMENT     2000 non-null   object\n",
            " 14  YEAR            2000 non-null   int64 \n",
            " 15  Full Filename   2000 non-null   object\n",
            " 16  Filename        2000 non-null   object\n",
            "dtypes: int64(5), object(12)\n",
            "memory usage: 265.8+ KB\n"
          ]
        }
      ]
    },
    {
      "cell_type": "code",
      "source": [
        "transcriptions_df.isnull().sum()"
      ],
      "metadata": {
        "colab": {
          "base_uri": "https://localhost:8080/",
          "height": 617
        },
        "id": "XptdAImPy3Wn",
        "outputId": "702c5540-82d9-4b2b-8b67-6842d02f1846"
      },
      "execution_count": 193,
      "outputs": [
        {
          "output_type": "execute_result",
          "data": {
            "text/plain": [
              "unamed            0\n",
              "File No.          0\n",
              "IMAGE_PATH        0\n",
              "IMAGE_SRC_URL     0\n",
              "AUDIO_PATH        0\n",
              "Transcriptions    0\n",
              "SPEAKER_ID        0\n",
              "ORG_NAME          0\n",
              "PROJECT_NAME      0\n",
              "LOCALE            0\n",
              "GENDER            0\n",
              "AGE               0\n",
              "DEVICE            0\n",
              "ENVIRONMENT       0\n",
              "YEAR              0\n",
              "Full Filename     0\n",
              "Filename          0\n",
              "dtype: int64"
            ],
            "text/html": [
              "<div>\n",
              "<style scoped>\n",
              "    .dataframe tbody tr th:only-of-type {\n",
              "        vertical-align: middle;\n",
              "    }\n",
              "\n",
              "    .dataframe tbody tr th {\n",
              "        vertical-align: top;\n",
              "    }\n",
              "\n",
              "    .dataframe thead th {\n",
              "        text-align: right;\n",
              "    }\n",
              "</style>\n",
              "<table border=\"1\" class=\"dataframe\">\n",
              "  <thead>\n",
              "    <tr style=\"text-align: right;\">\n",
              "      <th></th>\n",
              "      <th>0</th>\n",
              "    </tr>\n",
              "  </thead>\n",
              "  <tbody>\n",
              "    <tr>\n",
              "      <th>unamed</th>\n",
              "      <td>0</td>\n",
              "    </tr>\n",
              "    <tr>\n",
              "      <th>File No.</th>\n",
              "      <td>0</td>\n",
              "    </tr>\n",
              "    <tr>\n",
              "      <th>IMAGE_PATH</th>\n",
              "      <td>0</td>\n",
              "    </tr>\n",
              "    <tr>\n",
              "      <th>IMAGE_SRC_URL</th>\n",
              "      <td>0</td>\n",
              "    </tr>\n",
              "    <tr>\n",
              "      <th>AUDIO_PATH</th>\n",
              "      <td>0</td>\n",
              "    </tr>\n",
              "    <tr>\n",
              "      <th>Transcriptions</th>\n",
              "      <td>0</td>\n",
              "    </tr>\n",
              "    <tr>\n",
              "      <th>SPEAKER_ID</th>\n",
              "      <td>0</td>\n",
              "    </tr>\n",
              "    <tr>\n",
              "      <th>ORG_NAME</th>\n",
              "      <td>0</td>\n",
              "    </tr>\n",
              "    <tr>\n",
              "      <th>PROJECT_NAME</th>\n",
              "      <td>0</td>\n",
              "    </tr>\n",
              "    <tr>\n",
              "      <th>LOCALE</th>\n",
              "      <td>0</td>\n",
              "    </tr>\n",
              "    <tr>\n",
              "      <th>GENDER</th>\n",
              "      <td>0</td>\n",
              "    </tr>\n",
              "    <tr>\n",
              "      <th>AGE</th>\n",
              "      <td>0</td>\n",
              "    </tr>\n",
              "    <tr>\n",
              "      <th>DEVICE</th>\n",
              "      <td>0</td>\n",
              "    </tr>\n",
              "    <tr>\n",
              "      <th>ENVIRONMENT</th>\n",
              "      <td>0</td>\n",
              "    </tr>\n",
              "    <tr>\n",
              "      <th>YEAR</th>\n",
              "      <td>0</td>\n",
              "    </tr>\n",
              "    <tr>\n",
              "      <th>Full Filename</th>\n",
              "      <td>0</td>\n",
              "    </tr>\n",
              "    <tr>\n",
              "      <th>Filename</th>\n",
              "      <td>0</td>\n",
              "    </tr>\n",
              "  </tbody>\n",
              "</table>\n",
              "</div><br><label><b>dtype:</b> int64</label>"
            ]
          },
          "metadata": {},
          "execution_count": 193
        }
      ]
    },
    {
      "cell_type": "code",
      "source": [
        "transcriptions_df.columns"
      ],
      "metadata": {
        "colab": {
          "base_uri": "https://localhost:8080/"
        },
        "id": "_EFAX2Wry6TB",
        "outputId": "9d2ee225-de66-4826-a5d1-703b6a4f80a2"
      },
      "execution_count": 194,
      "outputs": [
        {
          "output_type": "execute_result",
          "data": {
            "text/plain": [
              "Index(['unamed', 'File No.', 'IMAGE_PATH', 'IMAGE_SRC_URL', 'AUDIO_PATH',\n",
              "       'Transcriptions', 'SPEAKER_ID', 'ORG_NAME', 'PROJECT_NAME', 'LOCALE',\n",
              "       'GENDER', 'AGE', 'DEVICE', 'ENVIRONMENT', 'YEAR', 'Full Filename',\n",
              "       'Filename'],\n",
              "      dtype='object')"
            ]
          },
          "metadata": {},
          "execution_count": 194
        }
      ]
    },
    {
      "cell_type": "code",
      "source": [
        "def plot_bar_chart(transcriptions_df, column_name, x_label, y_label, plt_title):\n",
        "\n",
        "  # Convert the specified column to a categorical data type.\n",
        "  transcriptions_df[f'{column_name}'] = pd.Categorical(transcriptions_df[f'{column_name}'])\n",
        "\n",
        "  # plot gender distribution\n",
        "  gender_counts = transcriptions_df[f'{column_name}'].value_counts()\n",
        "  gender_counts.plot(kind='bar')\n",
        "  plt.xlabel(f'{x_label}')\n",
        "  plt.ylabel(f'{y_label}')\n",
        "  plt.title(f'{plt_title}')\n",
        "  plt.show()"
      ],
      "metadata": {
        "id": "AQCQCRoMnkzh"
      },
      "execution_count": 195,
      "outputs": []
    },
    {
      "cell_type": "code",
      "source": [
        "# Plot Gender Distribution\n",
        "\n",
        "plot_bar_chart(transcriptions_df, 'GENDER', 'Gender', 'Count', 'Gender Distribution')"
      ],
      "metadata": {
        "colab": {
          "base_uri": "https://localhost:8080/",
          "height": 508
        },
        "id": "HeNPXoNoocK8",
        "outputId": "d7234918-5411-49bf-fb72-f44db94bc6cc"
      },
      "execution_count": 196,
      "outputs": [
        {
          "output_type": "display_data",
          "data": {
            "text/plain": [
              "<Figure size 640x480 with 1 Axes>"
            ],
            "image/png": "[encoded data removed]"
          },
          "metadata": {}
        }
      ]
    },
    {
      "cell_type": "code",
      "source": [
        "# Plot Environment Distribution\n",
        "\n",
        "plot_bar_chart(transcriptions_df, 'ENVIRONMENT', 'ENVIRONMENT', 'Count', 'ENVIRONMENT Distribution')"
      ],
      "metadata": {
        "colab": {
          "base_uri": "https://localhost:8080/",
          "height": 514
        },
        "id": "OwfJ1ACEzcoj",
        "outputId": "2ca7db2a-eead-46d5-903c-4cc909991080"
      },
      "execution_count": 197,
      "outputs": [
        {
          "output_type": "display_data",
          "data": {
            "text/plain": [
              "<Figure size 640x480 with 1 Axes>"
            ],
            "image/png": "[encoded data removed]"
          },
          "metadata": {}
        }
      ]
    },
    {
      "cell_type": "code",
      "source": [
        "transcriptions_df['SPEAKER_ID'].value_counts()"
      ],
      "metadata": {
        "colab": {
          "base_uri": "https://localhost:8080/",
          "height": 489
        },
        "id": "TPO4r6UxzhDC",
        "outputId": "f7326e35-3867-48ad-abab-2a160137174c"
      },
      "execution_count": 198,
      "outputs": [
        {
          "output_type": "execute_result",
          "data": {
            "text/plain": [
              "SPEAKER_ID\n",
              "64      64\n",
              "4384    64\n",
              "65      57\n",
              "3868    55\n",
              "4811    48\n",
              "        ..\n",
              "5609     1\n",
              "6089     1\n",
              "5704     1\n",
              "6001     1\n",
              "5529     1\n",
              "Name: count, Length: 354, dtype: int64"
            ],
            "text/html": [
              "<div>\n",
              "<style scoped>\n",
              "    .dataframe tbody tr th:only-of-type {\n",
              "        vertical-align: middle;\n",
              "    }\n",
              "\n",
              "    .dataframe tbody tr th {\n",
              "        vertical-align: top;\n",
              "    }\n",
              "\n",
              "    .dataframe thead th {\n",
              "        text-align: right;\n",
              "    }\n",
              "</style>\n",
              "<table border=\"1\" class=\"dataframe\">\n",
              "  <thead>\n",
              "    <tr style=\"text-align: right;\">\n",
              "      <th></th>\n",
              "      <th>count</th>\n",
              "    </tr>\n",
              "    <tr>\n",
              "      <th>SPEAKER_ID</th>\n",
              "      <th></th>\n",
              "    </tr>\n",
              "  </thead>\n",
              "  <tbody>\n",
              "    <tr>\n",
              "      <th>64</th>\n",
              "      <td>64</td>\n",
              "    </tr>\n",
              "    <tr>\n",
              "      <th>4384</th>\n",
              "      <td>64</td>\n",
              "    </tr>\n",
              "    <tr>\n",
              "      <th>65</th>\n",
              "      <td>57</td>\n",
              "    </tr>\n",
              "    <tr>\n",
              "      <th>3868</th>\n",
              "      <td>55</td>\n",
              "    </tr>\n",
              "    <tr>\n",
              "      <th>4811</th>\n",
              "      <td>48</td>\n",
              "    </tr>\n",
              "    <tr>\n",
              "      <th>...</th>\n",
              "      <td>...</td>\n",
              "    </tr>\n",
              "    <tr>\n",
              "      <th>5609</th>\n",
              "      <td>1</td>\n",
              "    </tr>\n",
              "    <tr>\n",
              "      <th>6089</th>\n",
              "      <td>1</td>\n",
              "    </tr>\n",
              "    <tr>\n",
              "      <th>5704</th>\n",
              "      <td>1</td>\n",
              "    </tr>\n",
              "    <tr>\n",
              "      <th>6001</th>\n",
              "      <td>1</td>\n",
              "    </tr>\n",
              "    <tr>\n",
              "      <th>5529</th>\n",
              "      <td>1</td>\n",
              "    </tr>\n",
              "  </tbody>\n",
              "</table>\n",
              "<p>354 rows × 1 columns</p>\n",
              "</div><br><label><b>dtype:</b> int64</label>"
            ]
          },
          "metadata": {},
          "execution_count": 198
        }
      ]
    }
  ]
}